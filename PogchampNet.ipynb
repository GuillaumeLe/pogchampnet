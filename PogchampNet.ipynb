{
  "nbformat": 4,
  "nbformat_minor": 0,
  "metadata": {
    "colab": {
      "name": "PogchampNet.ipynb",
      "version": "0.3.2",
      "provenance": [],
      "collapsed_sections": [],
      "include_colab_link": true
    },
    "kernelspec": {
      "name": "python3",
      "display_name": "Python 3"
    },
    "accelerator": "GPU"
  },
  "cells": [
    {
      "cell_type": "markdown",
      "metadata": {
        "id": "view-in-github",
        "colab_type": "text"
      },
      "source": [
        "<a href=\"https://colab.research.google.com/github/GuillaumeLe/pogchampnet/blob/master/PogchampNet.ipynb\" target=\"_parent\"><img src=\"https://colab.research.google.com/assets/colab-badge.svg\" alt=\"Open In Colab\"/></a>"
      ]
    },
    {
      "metadata": {
        "id": "1F_Tm5OfuhgT",
        "colab_type": "text"
      },
      "cell_type": "markdown",
      "source": [
        "# Implementation of the PogchampNET\n",
        "\n",
        "## Installation of dependencies\n"
      ]
    },
    {
      "metadata": {
        "id": "29QIzJS6kbib",
        "colab_type": "code",
        "colab": {
          "base_uri": "https://localhost:8080/",
          "height": 187
        },
        "outputId": "dd94da77-aac8-4579-cbbb-48344993b018"
      },
      "cell_type": "code",
      "source": [
        "!apt-get -qq install -y libsm6 libxext6 && pip install -q -U opencv-python\n",
        "! pip install moviepy pytube\n",
        "! imageio_download_bin ffmpeg\n",
        "from moviepy.video.io.ffmpeg_tools import ffmpeg_extract_subclip\n",
        "from IPython.display import HTML, display\n",
        "import cv2\n",
        "import numpy as np\n",
        "from keras.models import load_model\n",
        "from pytube import YouTube\n",
        "from google.colab import files\n",
        "import matplotlib.pyplot as plt\n",
        "%matplotlib inline\n",
        "import tensorflow as tf\n",
        "device_name = tf.test.gpu_device_name()\n",
        "if device_name != '/device:GPU:0':\n",
        "  raise SystemError('GPU device not found')\n",
        "print('Found GPU at: {}'.format(device_name))\n",
        "\n",
        "def progress(value, max=100):\n",
        "    return HTML(\"\"\"\n",
        "        <progress\n",
        "            value='{value}'\n",
        "            max='{max}',\n",
        "            style='width: 100%'\n",
        "        >\n",
        "            {value}\n",
        "        </progress>\n",
        "    \"\"\".format(value=value, max=max))"
      ],
      "execution_count": 48,
      "outputs": [
        {
          "output_type": "stream",
          "text": [
            "Requirement already satisfied: moviepy in /usr/local/lib/python3.6/dist-packages (0.2.3.5)\n",
            "Requirement already satisfied: pytube in /usr/local/lib/python3.6/dist-packages (9.3.5)\n",
            "Requirement already satisfied: imageio<3.0,>=2.1.2 in /usr/local/lib/python3.6/dist-packages (from moviepy) (2.4.1)\n",
            "Requirement already satisfied: decorator<5.0,>=4.0.2 in /usr/local/lib/python3.6/dist-packages (from moviepy) (4.3.0)\n",
            "Requirement already satisfied: numpy in /usr/local/lib/python3.6/dist-packages (from moviepy) (1.14.6)\n",
            "Requirement already satisfied: tqdm<5.0,>=4.11.2 in /usr/local/lib/python3.6/dist-packages (from moviepy) (4.28.1)\n",
            "Requirement already satisfied: pillow in /usr/local/lib/python3.6/dist-packages (from imageio<3.0,>=2.1.2->moviepy) (4.0.0)\n",
            "Requirement already satisfied: olefile in /usr/local/lib/python3.6/dist-packages (from pillow->imageio<3.0,>=2.1.2->moviepy) (0.46)\n",
            "Ascertaining binaries for: ffmpeg.\n",
            "Found GPU at: /device:GPU:0\n"
          ],
          "name": "stdout"
        }
      ]
    },
    {
      "metadata": {
        "id": "BtoWcvqj7Vp4",
        "colab_type": "text"
      },
      "cell_type": "markdown",
      "source": [
        "You must provide a youtube URL"
      ]
    },
    {
      "metadata": {
        "id": "XMWGnsj18mVU",
        "colab_type": "code",
        "colab": {
          "base_uri": "https://localhost:8080/",
          "height": 119
        },
        "outputId": "26420b1d-2d20-4f72-a03c-ac23575b61d3"
      },
      "cell_type": "code",
      "source": [
        "youtube_url = input('Enter the youtube URL of the video you want to use : ')\n",
        "!rm -rf *.mp4\n",
        "YouTube(youtube_url).streams.first().download('./')\n",
        "!mv *.mp4 video.mp4\n",
        "!ls -l"
      ],
      "execution_count": 49,
      "outputs": [
        {
          "output_type": "stream",
          "text": [
            "Enter the youtube URL of the video you want to use : https://www.youtube.com/watch?v=56PbKMl3ZVM&t=199s\n",
            "total 937160\n",
            "drwx------ 3 root root      4096 Nov 29 15:31 drive\n",
            "drwxr-xr-x 2 root root      4096 Nov 20 18:17 sample_data\n",
            "-rw-r--r-- 1 root root 654372080 Nov 29 16:17 saved_model.h5\n",
            "-rw-r--r-- 1 root root 305260012 Nov 29 17:11 video.mp4\n"
          ],
          "name": "stdout"
        }
      ]
    },
    {
      "metadata": {
        "id": "ubFPe_OqvLCn",
        "colab_type": "text"
      },
      "cell_type": "markdown",
      "source": [
        "## Loading trained neural network\n",
        "\n",
        "The farza's neural network given in the following link [Medium](https://medium.com/@farzatv/pogchampnet-how-we-used-twitch-chat-deep-learning-to-create-automatic-game-highlights-with-only-61ed7f7b22d4)\n",
        "\n",
        "As the model is quite heavy it could take a long time"
      ]
    },
    {
      "metadata": {
        "id": "MAyhi6XalESz",
        "colab_type": "code",
        "colab": {
          "base_uri": "https://localhost:8080/",
          "height": 377
        },
        "outputId": "6f9249be-00c2-49f3-c0ac-fd984431e0bc"
      },
      "cell_type": "code",
      "source": [
        "!wget https://www.dropbox.com/s/mlmr4qj9der7wdw/saved_model.h5\n",
        "model = load_model('saved_model.h5')"
      ],
      "execution_count": 50,
      "outputs": [
        {
          "output_type": "stream",
          "text": [
            "--2018-11-29 17:12:12--  https://www.dropbox.com/s/mlmr4qj9der7wdw/saved_model.h5\n",
            "Resolving www.dropbox.com (www.dropbox.com)... 162.125.65.1, 2620:100:6021:1::a27d:4101\n",
            "Connecting to www.dropbox.com (www.dropbox.com)|162.125.65.1|:443... connected.\n",
            "HTTP request sent, awaiting response... 301 Moved Permanently\n",
            "Location: /s/raw/mlmr4qj9der7wdw/saved_model.h5 [following]\n",
            "--2018-11-29 17:12:12--  https://www.dropbox.com/s/raw/mlmr4qj9der7wdw/saved_model.h5\n",
            "Reusing existing connection to www.dropbox.com:443.\n",
            "HTTP request sent, awaiting response... 302 Found\n",
            "Location: https://uc743cfb3e3e228ffc5527d948a4.dl.dropboxusercontent.com/cd/0/inline/AWiANYLR8egJsq4-9450TIxArN1SWXBaLIuitbi4rkzaAPl0zyJQhmWYeLb2AMF_J-kEWVYPfETALDmErH-yacS3uBYFP1Dd4ZxG7oCE6f2rK5dDfCxuSi-H8C0MZ_z8QhuzF0yCmzxhzFvW-ueIUBnxrleLF4RXEJ3nZmjVKULHEBM3ybcQtlYG321KuEpfIOE/file [following]\n",
            "--2018-11-29 17:12:13--  https://uc743cfb3e3e228ffc5527d948a4.dl.dropboxusercontent.com/cd/0/inline/AWiANYLR8egJsq4-9450TIxArN1SWXBaLIuitbi4rkzaAPl0zyJQhmWYeLb2AMF_J-kEWVYPfETALDmErH-yacS3uBYFP1Dd4ZxG7oCE6f2rK5dDfCxuSi-H8C0MZ_z8QhuzF0yCmzxhzFvW-ueIUBnxrleLF4RXEJ3nZmjVKULHEBM3ybcQtlYG321KuEpfIOE/file\n",
            "Resolving uc743cfb3e3e228ffc5527d948a4.dl.dropboxusercontent.com (uc743cfb3e3e228ffc5527d948a4.dl.dropboxusercontent.com)... 162.125.65.6, 2620:100:6021:6::a27d:4106\n",
            "Connecting to uc743cfb3e3e228ffc5527d948a4.dl.dropboxusercontent.com (uc743cfb3e3e228ffc5527d948a4.dl.dropboxusercontent.com)|162.125.65.6|:443... connected.\n",
            "HTTP request sent, awaiting response... 200 OK\n",
            "Length: 654372080 (624M) [text/plain]\n",
            "Saving to: ‘saved_model.h5.1’\n",
            "\n",
            "saved_model.h5.1    100%[===================>] 624.06M  31.6MB/s    in 19s     \n",
            "\n",
            "2018-11-29 17:12:33 (32.3 MB/s) - ‘saved_model.h5.1’ saved [654372080/654372080]\n",
            "\n"
          ],
          "name": "stdout"
        }
      ]
    },
    {
      "metadata": {
        "id": "0NNJNkB3v4aZ",
        "colab_type": "text"
      },
      "cell_type": "markdown",
      "source": [
        "# Prediction function\n",
        "\n",
        "We define the way frame will be evaluated from 0 to 9"
      ]
    },
    {
      "metadata": {
        "id": "XaiJMKERmvmU",
        "colab_type": "code",
        "colab": {}
      },
      "cell_type": "code",
      "source": [
        "def predict(frame):\n",
        "    frame = cv2.resize(frame, (384, 216))\n",
        "    # dividing by 255 leads to faster convergence through normalization.\n",
        "    frame = np.array(frame)/(255)\n",
        "    frame = np.expand_dims(frame, axis=0)\n",
        "    r = model.predict(frame)\n",
        "#     print(np.argmax(r[0]), r[0][np.argmax(r[0])] * 100)\n",
        "    return np.argmax(r[0])\n"
      ],
      "execution_count": 0,
      "outputs": []
    },
    {
      "metadata": {
        "id": "wS_EJ6-zwHPP",
        "colab_type": "text"
      },
      "cell_type": "markdown",
      "source": [
        "Let's evaluate the score for each frame of the video. This task is the longer one it will analyse every frame and it take long time. A progress bar indicate the status above the following cell."
      ]
    },
    {
      "metadata": {
        "id": "Es88Aup99v7b",
        "colab_type": "code",
        "colab": {
          "base_uri": "https://localhost:8080/",
          "height": 34
        },
        "outputId": "70667b2f-9a7f-40f1-8668-6357615fa366"
      },
      "cell_type": "code",
      "source": [
        "path_to_clip = './video.mp4'\n",
        "\n",
        "video = cv2.VideoCapture(path_to_clip)\n",
        "success, frame = video.read()\n",
        "fps = int(video.get(cv2.CAP_PROP_FPS))\n",
        "# video.set(1, 4500)\n",
        "success, frame = video.read()\n",
        "scores = []\n",
        "frames = []\n",
        "# plt.imshow(frame)\n",
        "length = int(video.get(cv2.CAP_PROP_FRAME_COUNT))\n",
        "out = display(progress(0, length), display_id=True)\n",
        "while success:\n",
        "    success, frame = video.read()\n",
        "    if not success:\n",
        "        break\n",
        "\n",
        "    frame_num = int(video.get(1))\n",
        "    out.update(progress(frame_num, length))\n",
        "    if frame_num % 10 != 0:\n",
        "        continue\n",
        "\n",
        "    r = predict(frame)\n",
        "    scores.append(r)\n",
        "    frames.append(video.get(cv2.CAP_PROP_POS_MSEC)//1000)\n",
        "\n",
        "    if cv2.waitKey(0) == ord('a'):\n",
        "        break\n",
        "video.release()\n"
      ],
      "execution_count": 52,
      "outputs": [
        {
          "output_type": "display_data",
          "data": {
            "text/html": [
              "\n",
              "        <progress\n",
              "            value='32685'\n",
              "            max='32685',\n",
              "            style='width: 100%'\n",
              "        >\n",
              "            32685\n",
              "        </progress>\n",
              "    "
            ],
            "text/plain": [
              "<IPython.core.display.HTML object>"
            ]
          },
          "metadata": {
            "tags": []
          }
        }
      ]
    },
    {
      "metadata": {
        "id": "UbaHlE06wQsC",
        "colab_type": "text"
      },
      "cell_type": "markdown",
      "source": [
        "# Register high scored sequences\n",
        "\n",
        "Now we register the high scored sequences in your google drive as `highlightx.mp4` where `x` is the timestamp of the interesting sequence."
      ]
    },
    {
      "metadata": {
        "id": "FRdC_afFp_lr",
        "colab_type": "code",
        "colab": {
          "base_uri": "https://localhost:8080/",
          "height": 34
        },
        "outputId": "4d79f7ca-f3fd-4093-9c32-91020d6e220e"
      },
      "cell_type": "code",
      "source": [
        "interest_index = []\n",
        "window_size = 10 \n",
        "last_index = 0\n",
        "for index in range(len(scores[:-window_size])):\n",
        "  if sum(scores[index:index+window_size])/window_size > 6:\n",
        "    if len(interest_index) == 0 or index-1 != last_index:\n",
        "      interest_index.append(index)\n",
        "    last_index = index\n",
        "print('Neural network found ', len(interest_index), 'sequence(s)')"
      ],
      "execution_count": 53,
      "outputs": [
        {
          "output_type": "stream",
          "text": [
            "Neural network found  1 sequence(s)\n"
          ],
          "name": "stdout"
        }
      ]
    },
    {
      "metadata": {
        "id": "NVbbFz26i4Em",
        "colab_type": "code",
        "colab": {
          "base_uri": "https://localhost:8080/",
          "height": 85
        },
        "outputId": "3bdadf2f-4f97-44c6-99be-a9e6c40fd8df"
      },
      "cell_type": "code",
      "source": [
        "for index in interest_index:\n",
        "  ffmpeg_extract_subclip(path_to_clip, max(0,frames[index]-5), frames[index]+25, targetname=\"./highlight\"+str(frames[index])+\".mp4\")"
      ],
      "execution_count": 54,
      "outputs": [
        {
          "output_type": "stream",
          "text": [
            "\n",
            "[MoviePy] Running:\n",
            ">>> /root/.imageio/ffmpeg/ffmpeg-linux64-v3.3.1 -y -i ./video.mp4 -ss 324.00 -t 30.00 -vcodec copy -acodec copy ./highlight329.0.mp4\n",
            "... command successful.\n"
          ],
          "name": "stdout"
        }
      ]
    },
    {
      "metadata": {
        "id": "biYSckmJXrNn",
        "colab_type": "text"
      },
      "cell_type": "markdown",
      "source": [
        "# Download hightlight\n"
      ]
    },
    {
      "metadata": {
        "id": "lMMwksOmUq7h",
        "colab_type": "code",
        "colab": {
          "base_uri": "https://localhost:8080/",
          "height": 34
        },
        "outputId": "da130b56-a75b-465f-d7b8-aba7e6a3c2fb"
      },
      "cell_type": "code",
      "source": [
        "import io\n",
        "import base64\n",
        "from IPython.display import HTML\n",
        "from os import listdir\n",
        "from os.path import isfile, join\n",
        "onlyfiles = [f for f in listdir('./') if isfile(join('./', f))]\n",
        "data = ''\n",
        "\n",
        "for file in onlyfiles:\n",
        "  if file.startswith('highlight'):\n",
        "    print(file)\n",
        "    files.download(file)\n",
        "    "
      ],
      "execution_count": 55,
      "outputs": [
        {
          "output_type": "stream",
          "text": [
            "highlight329.0.mp4\n"
          ],
          "name": "stdout"
        }
      ]
    },
    {
      "metadata": {
        "id": "pj9eX822dc_Y",
        "colab_type": "code",
        "colab": {}
      },
      "cell_type": "code",
      "source": [
        ""
      ],
      "execution_count": 0,
      "outputs": []
    }
  ]
}